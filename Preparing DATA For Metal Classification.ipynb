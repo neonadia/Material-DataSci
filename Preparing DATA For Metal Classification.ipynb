{
 "cells": [
  {
   "cell_type": "code",
   "execution_count": 1,
   "metadata": {},
   "outputs": [],
   "source": [
    "from pymatgen import MPRester, Composition\n",
    "from pymatgen.electronic_structure.plotter import BSPlotter\n",
    "import pymatgen.analysis.find_dimension\n",
    "import pymatgen.io.cif as pcif\n",
    "import pandas as pd\n",
    "from tqdm import tqdm\n",
    "from mendeleev import element #mendeleev is a package with elemental informations like periodic table \n",
    "#Another package could be usful as well \"periodictable\"\n",
    "import re\n",
    "import numpy as np\n",
    "from collections import OrderedDict\n",
    "from IPython.display import clear_output\n",
    "import time"
   ]
  },
  {
   "cell_type": "code",
   "execution_count": 10,
   "metadata": {},
   "outputs": [],
   "source": [
    "def get_valence(group_id):\n",
    "    if group_id == None:\n",
    "        return(None)\n",
    "    elif group_id >= 1 and group_id <= 12:\n",
    "        return(group_id)\n",
    "    elif group_id >= 13 and group_id <= 18:\n",
    "        return(group_id-10)\n",
    "    elif group_id ==0:\n",
    "        return(8)\n",
    "    else:\n",
    "        raise ValueError('The group ID is out of range')"
   ]
  },
  {
   "cell_type": "code",
   "execution_count": 11,
   "metadata": {},
   "outputs": [],
   "source": [
    "def NumberOfElement(unit_cell_formula,element):\n",
    "    if element not in unit_cell_formula:\n",
    "        raise ValueError('Element can not be found in pretty_formula')\n",
    "    else:\n",
    "        return(unit_cell_formula[element])"
   ]
  },
  {
   "cell_type": "code",
   "execution_count": 38,
   "metadata": {},
   "outputs": [
    {
     "data": {
      "text/plain": [
       "3.0"
      ]
     },
     "execution_count": 38,
     "metadata": {},
     "output_type": "execute_result"
    }
   ],
   "source": [
    "NumberOfElement({'C': 2.0, 'P': 2.0, 'V': 4.0},'C')+1"
   ]
  },
  {
   "cell_type": "code",
   "execution_count": 12,
   "metadata": {},
   "outputs": [],
   "source": [
    "#def find_number(text, c):\n",
    "#    return re.findall(r'%s(\\d+)' % c, text)"
   ]
  },
  {
   "cell_type": "code",
   "execution_count": 13,
   "metadata": {},
   "outputs": [],
   "source": [
    "def getOneElementFeature(feature, Element):\n",
    "    currentElem = element(Element)\n",
    "    \n",
    "    if feature == \"atomic_number\":\n",
    "        return(currentElem.atomic_number)\n",
    "    \n",
    "    elif feature == \"atomic_weight\":\n",
    "        return(currentElem.atomic_weight)\n",
    "    \n",
    "    elif feature == \"period\":\n",
    "        return(currentElem.period)\n",
    "    \n",
    "    elif feature == \"group_id\":\n",
    "        return(currentElem.group_id)\n",
    "    \n",
    "    elif feature == \"atomic_radius\":\n",
    "        return(currentElem.atomic_radius)\n",
    "    \n",
    "    elif feature == \"covalent_radius\":\n",
    "        return(currentElem.covalent_radius)\n",
    "    \n",
    "    elif feature == \"valence_electrons\":\n",
    "        return(get_valence(currentElem.group_id))\n",
    "    \n",
    "    elif feature == \"number_of_outer_shell_electrons\":\n",
    "        d = OrderedDict(currentElem.ec.electrons_per_shell())\n",
    "        els = list(d.items())\n",
    "        return(list(d.items())[-1][1])\n",
    "    \n",
    "    elif feature == \"ionenergies\":\n",
    "        return(currentElem.ionenergies[1])\n",
    "    \n",
    "    elif feature == \"dipole_polarizability\":\n",
    "        return(currentElem.dipole_polarizability)\n",
    "    \n",
    "    elif feature == \"melting_point\":\n",
    "        return(currentElem.melting_point)\n",
    "    \n",
    "    elif feature == \"boiling_point\":\n",
    "        return(currentElem.boiling_point)\n",
    "    \n",
    "    elif feature == \"atomic_density\":\n",
    "        return(currentElem.density)\n",
    "    \n",
    "    elif feature == \"specific_heat\":\n",
    "        return(currentElem.specific_heat)\n",
    "    \n",
    "    elif feature == \"fusion_heat\":\n",
    "        return(currentElem.fusion_heat)\n",
    "    \n",
    "    elif feature == \"evaporation_heat\":\n",
    "        return(currentElem.evaporation_heat)\n",
    "    \n",
    "    elif feature == \"thermal_conductivity\":\n",
    "        return(currentElem.thermal_conductivity)\n",
    "    \n",
    "    else:\n",
    "        raise ValueError('This feature dose not exsits')"
   ]
  },
  {
   "cell_type": "code",
   "execution_count": 14,
   "metadata": {},
   "outputs": [],
   "source": [
    "def createElementsDict(unit_cell_formula):\n",
    "#    elements_dict = {}\n",
    "#    for element in elements:\n",
    "#        elements_dict[element] = NumberOfElement(unit_cell_formula, element)\n",
    "    return(unit_cell_formula)"
   ]
  },
  {
   "cell_type": "code",
   "execution_count": 15,
   "metadata": {},
   "outputs": [],
   "source": [
    "def natoms(unit_cell_formula,elements):\n",
    "    n = 0\n",
    "    for element in elements:\n",
    "        n += NumberOfElement(unit_cell_formula, element)\n",
    "    return(n)"
   ]
  },
  {
   "cell_type": "code",
   "execution_count": 16,
   "metadata": {},
   "outputs": [],
   "source": [
    "def featureSum(feature, unit_cell_formula, elements):\n",
    "    fsum = 0\n",
    "    elements_dict = createElementsDict(unit_cell_formula)\n",
    "    for Element in elements:\n",
    "        fsum += getOneElementFeature(feature,Element)*elements_dict[Element]\n",
    "    return(fsum)"
   ]
  },
  {
   "cell_type": "code",
   "execution_count": 33,
   "metadata": {},
   "outputs": [],
   "source": [
    "def featureAvg(feature, unit_cell_formula, elements):\n",
    "    return(featureSum(feature, unit_cell_formula, elements)/natoms(unit_cell_formula,elements))"
   ]
  },
  {
   "cell_type": "code",
   "execution_count": 18,
   "metadata": {},
   "outputs": [],
   "source": [
    "def featureDifference(feature, unit_cell_formula, elements):\n",
    "    favg = featureAvg(feature, unit_cell_formula, elements)\n",
    "    fdiff = 0\n",
    "    for Element in elements:\n",
    "        fdiff +=  (getOneElementFeature(feature,Element) - favg)**2\n",
    "    return(np.sqrt(fdiff/natoms(unit_cell_formula,elements)))"
   ]
  },
  {
   "cell_type": "code",
   "execution_count": 19,
   "metadata": {},
   "outputs": [],
   "source": [
    "def featureLargest(feature, unit_cell_formula, elements):\n",
    "    feature_values = []\n",
    "    for Element in elements:\n",
    "        feature_values.append(getOneElementFeature(feature,Element))\n",
    "    return(max(feature_values))"
   ]
  },
  {
   "cell_type": "code",
   "execution_count": 20,
   "metadata": {},
   "outputs": [],
   "source": [
    "def featureSmallest(feature, unit_cell_formula, elements):\n",
    "    feature_values = []\n",
    "    for Element in elements:\n",
    "        feature_values.append(getOneElementFeature(feature,Element))\n",
    "    return(min(feature_values))"
   ]
  },
  {
   "cell_type": "code",
   "execution_count": 22,
   "metadata": {},
   "outputs": [
    {
     "data": {
      "text/plain": [
       "820.0687379999999"
      ]
     },
     "execution_count": 22,
     "metadata": {},
     "output_type": "execute_result"
    }
   ],
   "source": [
    "featureSum(\"atomic_weight\",{'Rb': 2.0, 'Te': 2.0, 'Au': 2.0}\n",
    ",['Rb','Te','Au'])"
   ]
  },
  {
   "cell_type": "code",
   "execution_count": 31,
   "metadata": {},
   "outputs": [],
   "source": [
    "atomicFeatures = [\"atomic_number\",\"atomic_weight\",\"period\",\"group_id\",\"atomic_radius\",\"covalent_radius\",\"valence_electrons\",\\\n",
    "                  \"number_of_outer_shell_electrons\",\"ionenergies\",\"dipole_polarizability\",\"melting_point\",\"boiling_point\",\\\n",
    "                  \"atomic_density\",\"specific_heat\",\"fusion_heat\",\"evaporation_heat\",\"thermal_conductivity\"]"
   ]
  },
  {
   "cell_type": "code",
   "execution_count": 15,
   "metadata": {},
   "outputs": [
    {
     "data": {
      "text/plain": [
       "17"
      ]
     },
     "execution_count": 15,
     "metadata": {},
     "output_type": "execute_result"
    }
   ],
   "source": [
    "len(atomicFeatures)"
   ]
  },
  {
   "cell_type": "code",
   "execution_count": 7,
   "metadata": {},
   "outputs": [
    {
     "data": {
      "application/vnd.jupyter.widget-view+json": {
       "model_id": "eaafa7f5f4f14cfbbc2ceb48fb41a233",
       "version_major": 2,
       "version_minor": 0
      },
      "text/plain": [
       "HBox(children=(IntProgress(value=0, max=120612), HTML(value='')))"
      ]
     },
     "metadata": {},
     "output_type": "display_data"
    }
   ],
   "source": [
    "mpr = MPRester(\"Frv0akZ1InOToUmL\")##API key should be inside the \"\", URL for API key: https://materialsproject.org/dashboard\n",
    "data = mpr.query(criteria={\"band_gap\": {\"$gt\": -0.1}},properties=([\"cif\",\"pretty_formula\",\"unit_cell_formula\",\"band_gap\",\"volume\",\"spacegroup\",\"density\",\"elements\",\"nelements\"]))"
   ]
  },
  {
   "cell_type": "code",
   "execution_count": 8,
   "metadata": {},
   "outputs": [],
   "source": [
    "pd.DataFrame(data).to_excel('MPwithMag.xlsx')"
   ]
  },
  {
   "cell_type": "code",
   "execution_count": 4,
   "metadata": {},
   "outputs": [],
   "source": [
    "pd_all = pd.DataFrame(data)"
   ]
  },
  {
   "cell_type": "code",
   "execution_count": 6,
   "metadata": {},
   "outputs": [
    {
     "data": {
      "text/html": [
       "<div>\n",
       "<style scoped>\n",
       "    .dataframe tbody tr th:only-of-type {\n",
       "        vertical-align: middle;\n",
       "    }\n",
       "\n",
       "    .dataframe tbody tr th {\n",
       "        vertical-align: top;\n",
       "    }\n",
       "\n",
       "    .dataframe thead th {\n",
       "        text-align: right;\n",
       "    }\n",
       "</style>\n",
       "<table border=\"1\" class=\"dataframe\">\n",
       "  <thead>\n",
       "    <tr style=\"text-align: right;\">\n",
       "      <th></th>\n",
       "      <th>cif</th>\n",
       "      <th>pretty_formula</th>\n",
       "      <th>unit_cell_formula</th>\n",
       "      <th>band_gap</th>\n",
       "      <th>volume</th>\n",
       "      <th>spacegroup</th>\n",
       "      <th>density</th>\n",
       "      <th>elements</th>\n",
       "      <th>nelements</th>\n",
       "    </tr>\n",
       "  </thead>\n",
       "  <tbody>\n",
       "    <tr>\n",
       "      <th>0</th>\n",
       "      <td># generated using pymatgen\\ndata_V2PC\\n_symmet...</td>\n",
       "      <td>V2PC</td>\n",
       "      <td>{'C': 2.0, 'P': 2.0, 'V': 4.0}</td>\n",
       "      <td>0.0</td>\n",
       "      <td>89.180553</td>\n",
       "      <td>{'source': 'spglib', 'symbol': 'P6_3/mmc', 'nu...</td>\n",
       "      <td>5.394855</td>\n",
       "      <td>[V, P, C]</td>\n",
       "      <td>3</td>\n",
       "    </tr>\n",
       "    <tr>\n",
       "      <th>1</th>\n",
       "      <td># generated using pymatgen\\ndata_V5P3N\\n_symme...</td>\n",
       "      <td>V5P3N</td>\n",
       "      <td>{'N': 2.0, 'P': 6.0, 'V': 10.0}</td>\n",
       "      <td>0.0</td>\n",
       "      <td>208.249629</td>\n",
       "      <td>{'source': 'spglib', 'symbol': 'P6_3/mcm', 'nu...</td>\n",
       "      <td>5.767212</td>\n",
       "      <td>[V, P, N]</td>\n",
       "      <td>3</td>\n",
       "    </tr>\n",
       "    <tr>\n",
       "      <th>2</th>\n",
       "      <td># generated using pymatgen\\ndata_Ta4N5\\n_symme...</td>\n",
       "      <td>Ta4N5</td>\n",
       "      <td>{'N': 5.0, 'Ta': 4.0}</td>\n",
       "      <td>0.0</td>\n",
       "      <td>102.185062</td>\n",
       "      <td>{'source': 'spglib', 'symbol': 'I4/m', 'number...</td>\n",
       "      <td>12.899903</td>\n",
       "      <td>[Ta, N]</td>\n",
       "      <td>2</td>\n",
       "    </tr>\n",
       "    <tr>\n",
       "      <th>3</th>\n",
       "      <td># generated using pymatgen\\ndata_NdNi4B\\n_symm...</td>\n",
       "      <td>NdNi4B</td>\n",
       "      <td>{'B': 2.0, 'Ni': 8.0, 'Nd': 2.0}</td>\n",
       "      <td>0.0</td>\n",
       "      <td>154.385284</td>\n",
       "      <td>{'source': 'spglib', 'symbol': 'P6/mmm', 'numb...</td>\n",
       "      <td>8.385803</td>\n",
       "      <td>[Nd, Ni, B]</td>\n",
       "      <td>3</td>\n",
       "    </tr>\n",
       "    <tr>\n",
       "      <th>4</th>\n",
       "      <td># generated using pymatgen\\ndata_YCo\\n_symmetr...</td>\n",
       "      <td>YCo</td>\n",
       "      <td>{'Co': 2.0, 'Y': 2.0}</td>\n",
       "      <td>0.0</td>\n",
       "      <td>81.284252</td>\n",
       "      <td>{'source': 'spglib', 'symbol': 'Cmcm', 'number...</td>\n",
       "      <td>6.040346</td>\n",
       "      <td>[Y, Co]</td>\n",
       "      <td>2</td>\n",
       "    </tr>\n",
       "    <tr>\n",
       "      <th>5</th>\n",
       "      <td># generated using pymatgen\\ndata_Li(CoO2)4\\n_s...</td>\n",
       "      <td>Li(CoO2)4</td>\n",
       "      <td>{'Li': 1.0, 'Co': 4.0, 'O': 8.0}</td>\n",
       "      <td>0.0</td>\n",
       "      <td>129.200112</td>\n",
       "      <td>{'source': 'spglib', 'symbol': 'R-3m', 'number...</td>\n",
       "      <td>4.764008</td>\n",
       "      <td>[Co, Li, O]</td>\n",
       "      <td>3</td>\n",
       "    </tr>\n",
       "    <tr>\n",
       "      <th>6</th>\n",
       "      <td># generated using pymatgen\\ndata_Sm\\n_symmetry...</td>\n",
       "      <td>Sm</td>\n",
       "      <td>{'Sm': 4.0}</td>\n",
       "      <td>0.0</td>\n",
       "      <td>135.538653</td>\n",
       "      <td>{'source': 'spglib', 'symbol': 'P6_3/mmc', 'nu...</td>\n",
       "      <td>7.368486</td>\n",
       "      <td>[Sm]</td>\n",
       "      <td>1</td>\n",
       "    </tr>\n",
       "    <tr>\n",
       "      <th>7</th>\n",
       "      <td># generated using pymatgen\\ndata_YbGa2\\n_symme...</td>\n",
       "      <td>YbGa2</td>\n",
       "      <td>{'Ga': 2.0, 'Yb': 1.0}</td>\n",
       "      <td>0.0</td>\n",
       "      <td>63.577503</td>\n",
       "      <td>{'source': 'spglib', 'symbol': 'P6/mmm', 'numb...</td>\n",
       "      <td>8.161617</td>\n",
       "      <td>[Yb, Ga]</td>\n",
       "      <td>2</td>\n",
       "    </tr>\n",
       "    <tr>\n",
       "      <th>8</th>\n",
       "      <td># generated using pymatgen\\ndata_ErHg\\n_symmet...</td>\n",
       "      <td>ErHg</td>\n",
       "      <td>{'Er': 1.0, 'Hg': 1.0}</td>\n",
       "      <td>0.0</td>\n",
       "      <td>50.556323</td>\n",
       "      <td>{'source': 'spglib', 'symbol': 'Pm-3m', 'numbe...</td>\n",
       "      <td>12.082121</td>\n",
       "      <td>[Er, Hg]</td>\n",
       "      <td>2</td>\n",
       "    </tr>\n",
       "    <tr>\n",
       "      <th>9</th>\n",
       "      <td># generated using pymatgen\\ndata_Li(CuN)3\\n_sy...</td>\n",
       "      <td>Li(CuN)3</td>\n",
       "      <td>{'Li': 1.0, 'Cu': 3.0, 'N': 3.0}</td>\n",
       "      <td>0.0</td>\n",
       "      <td>65.704825</td>\n",
       "      <td>{'source': 'spglib', 'symbol': 'Pm-3m', 'numbe...</td>\n",
       "      <td>6.055319</td>\n",
       "      <td>[Cu, Li, N]</td>\n",
       "      <td>3</td>\n",
       "    </tr>\n",
       "    <tr>\n",
       "      <th>10</th>\n",
       "      <td># generated using pymatgen\\ndata_NiAgF3\\n_symm...</td>\n",
       "      <td>NiAgF3</td>\n",
       "      <td>{'Ni': 1.0, 'Ag': 1.0, 'F': 3.0}</td>\n",
       "      <td>0.0</td>\n",
       "      <td>82.154056</td>\n",
       "      <td>{'source': 'spglib', 'symbol': 'Pm-3m', 'numbe...</td>\n",
       "      <td>4.518643</td>\n",
       "      <td>[Ag, F, Ni]</td>\n",
       "      <td>3</td>\n",
       "    </tr>\n",
       "    <tr>\n",
       "      <th>11</th>\n",
       "      <td># generated using pymatgen\\ndata_RbTeAu\\n_symm...</td>\n",
       "      <td>RbTeAu</td>\n",
       "      <td>{'Rb': 2.0, 'Te': 2.0, 'Au': 2.0}</td>\n",
       "      <td>0.0</td>\n",
       "      <td>212.010717</td>\n",
       "      <td>{'source': 'spglib', 'symbol': 'P6_3/mmc', 'nu...</td>\n",
       "      <td>6.423053</td>\n",
       "      <td>[Au, Rb, Te]</td>\n",
       "      <td>3</td>\n",
       "    </tr>\n",
       "    <tr>\n",
       "      <th>12</th>\n",
       "      <td># generated using pymatgen\\ndata_V3S4\\n_symmet...</td>\n",
       "      <td>V3S4</td>\n",
       "      <td>{'S': 8.0, 'V': 6.0}</td>\n",
       "      <td>0.0</td>\n",
       "      <td>232.759107</td>\n",
       "      <td>{'source': 'spglib', 'symbol': 'P6_3/m', 'numb...</td>\n",
       "      <td>4.010600</td>\n",
       "      <td>[S, V]</td>\n",
       "      <td>2</td>\n",
       "    </tr>\n",
       "    <tr>\n",
       "      <th>13</th>\n",
       "      <td># generated using pymatgen\\ndata_LaSiNi\\n_symm...</td>\n",
       "      <td>LaSiNi</td>\n",
       "      <td>{'Si': 2.0, 'Ni': 2.0, 'La': 2.0}</td>\n",
       "      <td>0.0</td>\n",
       "      <td>122.576038</td>\n",
       "      <td>{'source': 'spglib', 'symbol': 'I4_1md', 'numb...</td>\n",
       "      <td>6.114698</td>\n",
       "      <td>[La, Ni, Si]</td>\n",
       "      <td>3</td>\n",
       "    </tr>\n",
       "    <tr>\n",
       "      <th>14</th>\n",
       "      <td># generated using pymatgen\\ndata_HfMoP\\n_symme...</td>\n",
       "      <td>HfMoP</td>\n",
       "      <td>{'P': 3.0, 'Mo': 3.0, 'Hf': 3.0}</td>\n",
       "      <td>0.0</td>\n",
       "      <td>142.066293</td>\n",
       "      <td>{'source': 'spglib', 'symbol': 'P-62m', 'numbe...</td>\n",
       "      <td>10.709117</td>\n",
       "      <td>[Hf, Mo, P]</td>\n",
       "      <td>3</td>\n",
       "    </tr>\n",
       "    <tr>\n",
       "      <th>15</th>\n",
       "      <td># generated using pymatgen\\ndata_BaSn3\\n_symme...</td>\n",
       "      <td>BaSn3</td>\n",
       "      <td>{'Sn': 6.0, 'Ba': 2.0}</td>\n",
       "      <td>0.0</td>\n",
       "      <td>263.359069</td>\n",
       "      <td>{'source': 'spglib', 'symbol': 'P6_3/mmc', 'nu...</td>\n",
       "      <td>6.222718</td>\n",
       "      <td>[Ba, Sn]</td>\n",
       "      <td>2</td>\n",
       "    </tr>\n",
       "    <tr>\n",
       "      <th>16</th>\n",
       "      <td># generated using pymatgen\\ndata_K2RhF6\\n_symm...</td>\n",
       "      <td>K2RhF6</td>\n",
       "      <td>{'F': 6.0, 'K': 2.0, 'Rh': 1.0}</td>\n",
       "      <td>0.0</td>\n",
       "      <td>140.954693</td>\n",
       "      <td>{'source': 'spglib', 'symbol': 'P-3m1', 'numbe...</td>\n",
       "      <td>3.476384</td>\n",
       "      <td>[F, K, Rh]</td>\n",
       "      <td>3</td>\n",
       "    </tr>\n",
       "    <tr>\n",
       "      <th>17</th>\n",
       "      <td># generated using pymatgen\\ndata_TcPbO3\\n_symm...</td>\n",
       "      <td>TcPbO3</td>\n",
       "      <td>{'Tc': 4.0, 'Pb': 4.0, 'O': 12.0}</td>\n",
       "      <td>0.0</td>\n",
       "      <td>286.170930</td>\n",
       "      <td>{'source': 'spglib', 'symbol': 'Fd-3m', 'numbe...</td>\n",
       "      <td>8.197889</td>\n",
       "      <td>[O, Pb, Tc]</td>\n",
       "      <td>3</td>\n",
       "    </tr>\n",
       "    <tr>\n",
       "      <th>18</th>\n",
       "      <td># generated using pymatgen\\ndata_La4FeSe6O\\n_s...</td>\n",
       "      <td>La4FeSe6O</td>\n",
       "      <td>{'La': 8.0, 'Fe': 2.0, 'Se': 12.0, 'O': 2.0}</td>\n",
       "      <td>0.0</td>\n",
       "      <td>591.051588</td>\n",
       "      <td>{'source': 'spglib', 'symbol': 'P6_3mc', 'numb...</td>\n",
       "      <td>6.187714</td>\n",
       "      <td>[Fe, La, O, Se]</td>\n",
       "      <td>4</td>\n",
       "    </tr>\n",
       "    <tr>\n",
       "      <th>19</th>\n",
       "      <td># generated using pymatgen\\ndata_AsPd2\\n_symme...</td>\n",
       "      <td>AsPd2</td>\n",
       "      <td>{'As': 4.0, 'Pd': 8.0}</td>\n",
       "      <td>0.0</td>\n",
       "      <td>192.004125</td>\n",
       "      <td>{'source': 'spglib', 'symbol': 'Cmc2_1', 'numb...</td>\n",
       "      <td>9.954773</td>\n",
       "      <td>[As, Pd]</td>\n",
       "      <td>2</td>\n",
       "    </tr>\n",
       "  </tbody>\n",
       "</table>\n",
       "</div>"
      ],
      "text/plain": [
       "                                                  cif pretty_formula  \\\n",
       "0   # generated using pymatgen\\ndata_V2PC\\n_symmet...           V2PC   \n",
       "1   # generated using pymatgen\\ndata_V5P3N\\n_symme...          V5P3N   \n",
       "2   # generated using pymatgen\\ndata_Ta4N5\\n_symme...          Ta4N5   \n",
       "3   # generated using pymatgen\\ndata_NdNi4B\\n_symm...         NdNi4B   \n",
       "4   # generated using pymatgen\\ndata_YCo\\n_symmetr...            YCo   \n",
       "5   # generated using pymatgen\\ndata_Li(CoO2)4\\n_s...      Li(CoO2)4   \n",
       "6   # generated using pymatgen\\ndata_Sm\\n_symmetry...             Sm   \n",
       "7   # generated using pymatgen\\ndata_YbGa2\\n_symme...          YbGa2   \n",
       "8   # generated using pymatgen\\ndata_ErHg\\n_symmet...           ErHg   \n",
       "9   # generated using pymatgen\\ndata_Li(CuN)3\\n_sy...       Li(CuN)3   \n",
       "10  # generated using pymatgen\\ndata_NiAgF3\\n_symm...         NiAgF3   \n",
       "11  # generated using pymatgen\\ndata_RbTeAu\\n_symm...         RbTeAu   \n",
       "12  # generated using pymatgen\\ndata_V3S4\\n_symmet...           V3S4   \n",
       "13  # generated using pymatgen\\ndata_LaSiNi\\n_symm...         LaSiNi   \n",
       "14  # generated using pymatgen\\ndata_HfMoP\\n_symme...          HfMoP   \n",
       "15  # generated using pymatgen\\ndata_BaSn3\\n_symme...          BaSn3   \n",
       "16  # generated using pymatgen\\ndata_K2RhF6\\n_symm...         K2RhF6   \n",
       "17  # generated using pymatgen\\ndata_TcPbO3\\n_symm...         TcPbO3   \n",
       "18  # generated using pymatgen\\ndata_La4FeSe6O\\n_s...      La4FeSe6O   \n",
       "19  # generated using pymatgen\\ndata_AsPd2\\n_symme...          AsPd2   \n",
       "\n",
       "                               unit_cell_formula  band_gap      volume  \\\n",
       "0                 {'C': 2.0, 'P': 2.0, 'V': 4.0}       0.0   89.180553   \n",
       "1                {'N': 2.0, 'P': 6.0, 'V': 10.0}       0.0  208.249629   \n",
       "2                          {'N': 5.0, 'Ta': 4.0}       0.0  102.185062   \n",
       "3               {'B': 2.0, 'Ni': 8.0, 'Nd': 2.0}       0.0  154.385284   \n",
       "4                          {'Co': 2.0, 'Y': 2.0}       0.0   81.284252   \n",
       "5               {'Li': 1.0, 'Co': 4.0, 'O': 8.0}       0.0  129.200112   \n",
       "6                                    {'Sm': 4.0}       0.0  135.538653   \n",
       "7                         {'Ga': 2.0, 'Yb': 1.0}       0.0   63.577503   \n",
       "8                         {'Er': 1.0, 'Hg': 1.0}       0.0   50.556323   \n",
       "9               {'Li': 1.0, 'Cu': 3.0, 'N': 3.0}       0.0   65.704825   \n",
       "10              {'Ni': 1.0, 'Ag': 1.0, 'F': 3.0}       0.0   82.154056   \n",
       "11             {'Rb': 2.0, 'Te': 2.0, 'Au': 2.0}       0.0  212.010717   \n",
       "12                          {'S': 8.0, 'V': 6.0}       0.0  232.759107   \n",
       "13             {'Si': 2.0, 'Ni': 2.0, 'La': 2.0}       0.0  122.576038   \n",
       "14              {'P': 3.0, 'Mo': 3.0, 'Hf': 3.0}       0.0  142.066293   \n",
       "15                        {'Sn': 6.0, 'Ba': 2.0}       0.0  263.359069   \n",
       "16               {'F': 6.0, 'K': 2.0, 'Rh': 1.0}       0.0  140.954693   \n",
       "17             {'Tc': 4.0, 'Pb': 4.0, 'O': 12.0}       0.0  286.170930   \n",
       "18  {'La': 8.0, 'Fe': 2.0, 'Se': 12.0, 'O': 2.0}       0.0  591.051588   \n",
       "19                        {'As': 4.0, 'Pd': 8.0}       0.0  192.004125   \n",
       "\n",
       "                                           spacegroup    density  \\\n",
       "0   {'source': 'spglib', 'symbol': 'P6_3/mmc', 'nu...   5.394855   \n",
       "1   {'source': 'spglib', 'symbol': 'P6_3/mcm', 'nu...   5.767212   \n",
       "2   {'source': 'spglib', 'symbol': 'I4/m', 'number...  12.899903   \n",
       "3   {'source': 'spglib', 'symbol': 'P6/mmm', 'numb...   8.385803   \n",
       "4   {'source': 'spglib', 'symbol': 'Cmcm', 'number...   6.040346   \n",
       "5   {'source': 'spglib', 'symbol': 'R-3m', 'number...   4.764008   \n",
       "6   {'source': 'spglib', 'symbol': 'P6_3/mmc', 'nu...   7.368486   \n",
       "7   {'source': 'spglib', 'symbol': 'P6/mmm', 'numb...   8.161617   \n",
       "8   {'source': 'spglib', 'symbol': 'Pm-3m', 'numbe...  12.082121   \n",
       "9   {'source': 'spglib', 'symbol': 'Pm-3m', 'numbe...   6.055319   \n",
       "10  {'source': 'spglib', 'symbol': 'Pm-3m', 'numbe...   4.518643   \n",
       "11  {'source': 'spglib', 'symbol': 'P6_3/mmc', 'nu...   6.423053   \n",
       "12  {'source': 'spglib', 'symbol': 'P6_3/m', 'numb...   4.010600   \n",
       "13  {'source': 'spglib', 'symbol': 'I4_1md', 'numb...   6.114698   \n",
       "14  {'source': 'spglib', 'symbol': 'P-62m', 'numbe...  10.709117   \n",
       "15  {'source': 'spglib', 'symbol': 'P6_3/mmc', 'nu...   6.222718   \n",
       "16  {'source': 'spglib', 'symbol': 'P-3m1', 'numbe...   3.476384   \n",
       "17  {'source': 'spglib', 'symbol': 'Fd-3m', 'numbe...   8.197889   \n",
       "18  {'source': 'spglib', 'symbol': 'P6_3mc', 'numb...   6.187714   \n",
       "19  {'source': 'spglib', 'symbol': 'Cmc2_1', 'numb...   9.954773   \n",
       "\n",
       "           elements  nelements  \n",
       "0         [V, P, C]          3  \n",
       "1         [V, P, N]          3  \n",
       "2           [Ta, N]          2  \n",
       "3       [Nd, Ni, B]          3  \n",
       "4           [Y, Co]          2  \n",
       "5       [Co, Li, O]          3  \n",
       "6              [Sm]          1  \n",
       "7          [Yb, Ga]          2  \n",
       "8          [Er, Hg]          2  \n",
       "9       [Cu, Li, N]          3  \n",
       "10      [Ag, F, Ni]          3  \n",
       "11     [Au, Rb, Te]          3  \n",
       "12           [S, V]          2  \n",
       "13     [La, Ni, Si]          3  \n",
       "14      [Hf, Mo, P]          3  \n",
       "15         [Ba, Sn]          2  \n",
       "16       [F, K, Rh]          3  \n",
       "17      [O, Pb, Tc]          3  \n",
       "18  [Fe, La, O, Se]          4  \n",
       "19         [As, Pd]          2  "
      ]
     },
     "execution_count": 6,
     "metadata": {},
     "output_type": "execute_result"
    }
   ],
   "source": [
    "pd_all.head(20)"
   ]
  },
  {
   "cell_type": "code",
   "execution_count": 23,
   "metadata": {},
   "outputs": [
    {
     "data": {
      "text/plain": [
       "'orthorhombic'"
      ]
     },
     "execution_count": 23,
     "metadata": {},
     "output_type": "execute_result"
    }
   ],
   "source": [
    "pd_all['spacegroup'][4]['crystal_system']"
   ]
  },
  {
   "cell_type": "code",
   "execution_count": 24,
   "metadata": {},
   "outputs": [
    {
     "data": {
      "text/plain": [
       "(55101, 9)"
      ]
     },
     "execution_count": 24,
     "metadata": {},
     "output_type": "execute_result"
    }
   ],
   "source": [
    "pd_all.query('band_gap == 0').shape"
   ]
  },
  {
   "cell_type": "code",
   "execution_count": 25,
   "metadata": {},
   "outputs": [],
   "source": [
    "pd_subset = pd.concat([pd_all.query('band_gap == 0')[0:10],pd_all.query('band_gap != 0')[-10::]])"
   ]
  },
  {
   "cell_type": "code",
   "execution_count": 26,
   "metadata": {},
   "outputs": [
    {
     "data": {
      "text/plain": [
       "(20, 9)"
      ]
     },
     "execution_count": 26,
     "metadata": {},
     "output_type": "execute_result"
    }
   ],
   "source": [
    "pd_subset.shape"
   ]
  },
  {
   "cell_type": "code",
   "execution_count": 27,
   "metadata": {},
   "outputs": [
    {
     "data": {
      "text/html": [
       "<div>\n",
       "<style scoped>\n",
       "    .dataframe tbody tr th:only-of-type {\n",
       "        vertical-align: middle;\n",
       "    }\n",
       "\n",
       "    .dataframe tbody tr th {\n",
       "        vertical-align: top;\n",
       "    }\n",
       "\n",
       "    .dataframe thead th {\n",
       "        text-align: right;\n",
       "    }\n",
       "</style>\n",
       "<table border=\"1\" class=\"dataframe\">\n",
       "  <thead>\n",
       "    <tr style=\"text-align: right;\">\n",
       "      <th></th>\n",
       "      <th>cif</th>\n",
       "      <th>pretty_formula</th>\n",
       "      <th>unit_cell_formula</th>\n",
       "      <th>band_gap</th>\n",
       "      <th>volume</th>\n",
       "      <th>spacegroup</th>\n",
       "      <th>density</th>\n",
       "      <th>elements</th>\n",
       "      <th>nelements</th>\n",
       "    </tr>\n",
       "  </thead>\n",
       "  <tbody>\n",
       "    <tr>\n",
       "      <th>0</th>\n",
       "      <td># generated using pymatgen\\ndata_V2PC\\n_symmet...</td>\n",
       "      <td>V2PC</td>\n",
       "      <td>{'C': 2.0, 'P': 2.0, 'V': 4.0}</td>\n",
       "      <td>0.0</td>\n",
       "      <td>89.180553</td>\n",
       "      <td>{'source': 'spglib', 'symbol': 'P6_3/mmc', 'nu...</td>\n",
       "      <td>5.394855</td>\n",
       "      <td>[V, P, C]</td>\n",
       "      <td>3</td>\n",
       "    </tr>\n",
       "    <tr>\n",
       "      <th>1</th>\n",
       "      <td># generated using pymatgen\\ndata_V5P3N\\n_symme...</td>\n",
       "      <td>V5P3N</td>\n",
       "      <td>{'N': 2.0, 'P': 6.0, 'V': 10.0}</td>\n",
       "      <td>0.0</td>\n",
       "      <td>208.249629</td>\n",
       "      <td>{'source': 'spglib', 'symbol': 'P6_3/mcm', 'nu...</td>\n",
       "      <td>5.767212</td>\n",
       "      <td>[V, P, N]</td>\n",
       "      <td>3</td>\n",
       "    </tr>\n",
       "    <tr>\n",
       "      <th>2</th>\n",
       "      <td># generated using pymatgen\\ndata_Ta4N5\\n_symme...</td>\n",
       "      <td>Ta4N5</td>\n",
       "      <td>{'N': 5.0, 'Ta': 4.0}</td>\n",
       "      <td>0.0</td>\n",
       "      <td>102.185062</td>\n",
       "      <td>{'source': 'spglib', 'symbol': 'I4/m', 'number...</td>\n",
       "      <td>12.899903</td>\n",
       "      <td>[Ta, N]</td>\n",
       "      <td>2</td>\n",
       "    </tr>\n",
       "    <tr>\n",
       "      <th>3</th>\n",
       "      <td># generated using pymatgen\\ndata_NdNi4B\\n_symm...</td>\n",
       "      <td>NdNi4B</td>\n",
       "      <td>{'B': 2.0, 'Ni': 8.0, 'Nd': 2.0}</td>\n",
       "      <td>0.0</td>\n",
       "      <td>154.385284</td>\n",
       "      <td>{'source': 'spglib', 'symbol': 'P6/mmm', 'numb...</td>\n",
       "      <td>8.385803</td>\n",
       "      <td>[Nd, Ni, B]</td>\n",
       "      <td>3</td>\n",
       "    </tr>\n",
       "    <tr>\n",
       "      <th>4</th>\n",
       "      <td># generated using pymatgen\\ndata_YCo\\n_symmetr...</td>\n",
       "      <td>YCo</td>\n",
       "      <td>{'Co': 2.0, 'Y': 2.0}</td>\n",
       "      <td>0.0</td>\n",
       "      <td>81.284252</td>\n",
       "      <td>{'source': 'spglib', 'symbol': 'Cmcm', 'number...</td>\n",
       "      <td>6.040346</td>\n",
       "      <td>[Y, Co]</td>\n",
       "      <td>2</td>\n",
       "    </tr>\n",
       "  </tbody>\n",
       "</table>\n",
       "</div>"
      ],
      "text/plain": [
       "                                                 cif pretty_formula  \\\n",
       "0  # generated using pymatgen\\ndata_V2PC\\n_symmet...           V2PC   \n",
       "1  # generated using pymatgen\\ndata_V5P3N\\n_symme...          V5P3N   \n",
       "2  # generated using pymatgen\\ndata_Ta4N5\\n_symme...          Ta4N5   \n",
       "3  # generated using pymatgen\\ndata_NdNi4B\\n_symm...         NdNi4B   \n",
       "4  # generated using pymatgen\\ndata_YCo\\n_symmetr...            YCo   \n",
       "\n",
       "                  unit_cell_formula  band_gap      volume  \\\n",
       "0    {'C': 2.0, 'P': 2.0, 'V': 4.0}       0.0   89.180553   \n",
       "1   {'N': 2.0, 'P': 6.0, 'V': 10.0}       0.0  208.249629   \n",
       "2             {'N': 5.0, 'Ta': 4.0}       0.0  102.185062   \n",
       "3  {'B': 2.0, 'Ni': 8.0, 'Nd': 2.0}       0.0  154.385284   \n",
       "4             {'Co': 2.0, 'Y': 2.0}       0.0   81.284252   \n",
       "\n",
       "                                          spacegroup    density     elements  \\\n",
       "0  {'source': 'spglib', 'symbol': 'P6_3/mmc', 'nu...   5.394855    [V, P, C]   \n",
       "1  {'source': 'spglib', 'symbol': 'P6_3/mcm', 'nu...   5.767212    [V, P, N]   \n",
       "2  {'source': 'spglib', 'symbol': 'I4/m', 'number...  12.899903      [Ta, N]   \n",
       "3  {'source': 'spglib', 'symbol': 'P6/mmm', 'numb...   8.385803  [Nd, Ni, B]   \n",
       "4  {'source': 'spglib', 'symbol': 'Cmcm', 'number...   6.040346      [Y, Co]   \n",
       "\n",
       "   nelements  \n",
       "0          3  \n",
       "1          3  \n",
       "2          2  \n",
       "3          3  \n",
       "4          2  "
      ]
     },
     "execution_count": 27,
     "metadata": {},
     "output_type": "execute_result"
    }
   ],
   "source": [
    "pd_subset.head()"
   ]
  },
  {
   "cell_type": "code",
   "execution_count": 28,
   "metadata": {},
   "outputs": [
    {
     "data": {
      "text/plain": [
       "cif                  0\n",
       "pretty_formula       0\n",
       "unit_cell_formula    0\n",
       "band_gap             0\n",
       "volume               0\n",
       "spacegroup           0\n",
       "density              0\n",
       "elements             0\n",
       "nelements            0\n",
       "dtype: int64"
      ]
     },
     "execution_count": 28,
     "metadata": {},
     "output_type": "execute_result"
    }
   ],
   "source": [
    "pd_subset.isnull().sum()"
   ]
  },
  {
   "cell_type": "code",
   "execution_count": 29,
   "metadata": {},
   "outputs": [],
   "source": [
    "pd_subset.reset_index(inplace=True)"
   ]
  },
  {
   "cell_type": "code",
   "execution_count": 34,
   "metadata": {},
   "outputs": [
    {
     "name": "stdout",
     "output_type": "stream",
     "text": [
      "row 19 and feature 16\n"
     ]
    }
   ],
   "source": [
    "dict_all = {}\n",
    "for i in range(len(atomicFeatures)):\n",
    "    dict_all[\"sum_\"+atomicFeatures[i]] = []\n",
    "    dict_all[\"avg_\"+atomicFeatures[i]] = []\n",
    "    dict_all[\"diff_\"+atomicFeatures[i]] = []\n",
    "    dict_all[\"max_\"+atomicFeatures[i]] = []\n",
    "    dict_all[\"min_\"+atomicFeatures[i]] = []\n",
    "    for j in range(pd_subset.shape[0]):\n",
    "        feature_tester = []          #test whether there is None feature value\n",
    "        for Element in pd_subset['elements'][j]:\n",
    "            feature_tester.append(getOneElementFeature(atomicFeatures[i],Element))\n",
    "        if None not in feature_tester:\n",
    "            clear_output()\n",
    "            print(\"row \"+ str(j) + \" and feature \" + str(i))\n",
    "            dict_all[\"sum_\"+atomicFeatures[i]].append(featureSum(atomicFeatures[i],pd_subset['unit_cell_formula'][j],pd_subset['elements'][j]))\n",
    "            dict_all[\"avg_\"+atomicFeatures[i]].append(featureAvg(atomicFeatures[i],pd_subset['unit_cell_formula'][j],pd_subset['elements'][j]))\n",
    "            dict_all[\"diff_\"+atomicFeatures[i]].append(featureDifference(atomicFeatures[i],pd_subset['unit_cell_formula'][j],pd_subset['elements'][j]))\n",
    "            dict_all[\"max_\"+atomicFeatures[i]].append(featureLargest(atomicFeatures[i],pd_subset['unit_cell_formula'][j],pd_subset['elements'][j]))\n",
    "            dict_all[\"min_\"+atomicFeatures[i]].append(featureSmallest(atomicFeatures[i],pd_subset['unit_cell_formula'][j],pd_subset['elements'][j]))\n",
    "        else:\n",
    "            dict_all[\"sum_\"+atomicFeatures[i]].append('None')\n",
    "            dict_all[\"avg_\"+atomicFeatures[i]].append('None')\n",
    "            dict_all[\"diff_\"+atomicFeatures[i]].append('None')\n",
    "            dict_all[\"max_\"+atomicFeatures[i]].append('None')\n",
    "            dict_all[\"min_\"+atomicFeatures[i]].append('None')"
   ]
  },
  {
   "cell_type": "code",
   "execution_count": 35,
   "metadata": {},
   "outputs": [
    {
     "name": "stderr",
     "output_type": "stream",
     "text": [
      "D:\\ReserachTool\\Anaconda\\lib\\site-packages\\pandas\\core\\ops\\__init__.py:1115: FutureWarning: elementwise comparison failed; returning scalar instead, but in the future will perform elementwise comparison\n",
      "  result = method(y)\n"
     ]
    },
    {
     "data": {
      "text/plain": [
       "sum_atomic_number             0\n",
       "avg_atomic_number             0\n",
       "diff_atomic_number            0\n",
       "max_atomic_number             0\n",
       "min_atomic_number             0\n",
       "                             ..\n",
       "sum_thermal_conductivity     12\n",
       "avg_thermal_conductivity     12\n",
       "diff_thermal_conductivity    12\n",
       "max_thermal_conductivity     12\n",
       "min_thermal_conductivity     12\n",
       "Length: 85, dtype: int64"
      ]
     },
     "execution_count": 35,
     "metadata": {},
     "output_type": "execute_result"
    }
   ],
   "source": [
    "pd.DataFrame(pd.DataFrame(dict_all)=='None').sum()"
   ]
  },
  {
   "cell_type": "code",
   "execution_count": 39,
   "metadata": {},
   "outputs": [
    {
     "name": "stdout",
     "output_type": "stream",
     "text": [
      "row 19\n"
     ]
    }
   ],
   "source": [
    "dict_all[\"band_gap\"] = []\n",
    "dict_all[\"material_density\"] = []\n",
    "dict_all[\"material_volume\"] = []\n",
    "dict_all[\"space_group\"] = []\n",
    "dict_all[\"volume_per_atom\"] = []\n",
    "dict_all[\"pretty_formula\"] = []\n",
    "dict_all['unit_cell_formula'] = []\n",
    "dict_all[\"cif\"] = []\n",
    "for i in range(pd_subset.shape[0]):\n",
    "    clear_output()\n",
    "    natom = 0\n",
    "    for Element in pd_subset['elements'][i]:\n",
    "        natom += NumberOfElement(pd_subset['unit_cell_formula'][i],Element)\n",
    "    dict_all[\"band_gap\"].append(pd_subset['band_gap'][i])\n",
    "    dict_all[\"material_density\"].append(pd_subset['density'][i])\n",
    "    dict_all[\"material_volume\"].append(pd_subset['volume'][i])\n",
    "    dict_all[\"space_group\"].append(pd_subset[\"spacegroup\"][i]['crystal_system'])\n",
    "    dict_all[\"volume_per_atom\"].append(pd_subset[\"volume\"][i]/natom)\n",
    "    dict_all[\"pretty_formula\"].append(pd_subset[\"pretty_formula\"][i])\n",
    "    dict_all['unit_cell_formula'].append(pd_subset['unit_cell_formula'][i])\n",
    "    dict_all[\"cif\"].append(pd_subset[\"cif\"][i])\n",
    "    print(\"row \"+ str(i))"
   ]
  },
  {
   "cell_type": "code",
   "execution_count": 40,
   "metadata": {},
   "outputs": [],
   "source": [
    "ML_data = pd.DataFrame(dict_all)"
   ]
  },
  {
   "cell_type": "code",
   "execution_count": 41,
   "metadata": {},
   "outputs": [],
   "source": [
    "ML_data.to_excel(\"ML_data_20.xlsx\")"
   ]
  },
  {
   "cell_type": "markdown",
   "metadata": {},
   "source": [
    "## mendeleev\n",
    "#### atomic number: \n",
    "    C.atomic_number\n",
    "#### atomic weight: \n",
    "    C.atomic_weight\n",
    "#### period number: \n",
    "    C.period\n",
    "#### group number:\n",
    "    C.group_id\n",
    "#### family number:\n",
    "#### L quantum number:\n",
    "#### Mendeleev number:\n",
    "#### Atomic radius: \n",
    "    C.atomic_radius\n",
    "#### covalent radius: \n",
    "    C.covalent_radius\n",
    "#### ionic radius: \n",
    "    C.ionic_radii ?\n",
    "#### crystal radius: \n",
    "    C.ionic_radii ?\n",
    "#### Pauling EN:\n",
    "#### Martynov-Batsanov EN:\n",
    "#### Gordy EN:\n",
    "#### Mulliken EN:\n",
    "#### Allen EN:\n",
    "#### Metallic valence:\n",
    "#### Number of valence electrons:\n",
    "    get_valence(C.group_id)\n",
    "#### Number of s electrons:\n",
    "#### Number of p electrons:\n",
    "#### Number of d electrons:\n",
    "#### Number of outer shell electrons:\n",
    "    from collections import OrderedDict <br/>\n",
    "    Si = element('Si') <br/>\n",
    "    d = OrderedDict(Si.ec.electrons_per_shell()) <br/>\n",
    "    els = list(d.items()) <br/>\n",
    "    els[-1][1] <br/>\n",
    "#### First ionization energy (kJ/mol): <br/>\n",
    "    C.ionenergies[1] <br/>\n",
    "#### Polarizability: <br/>\n",
    "    C.dipole_polarizability <br/>\n",
    "#### Melting point (K): <br/>\n",
    "    C.melting_point <br/>\n",
    "#### Boiling point (K): <br/>\n",
    "    C.boiling_point <br/>\n",
    "#### Density (g/mL): <br/>\n",
    "    C.density <br/>\n",
    "#### Specific heat (J/g•K): <br/>\n",
    "    C.specific_heat <br/>\n",
    "#### Heat of fusion (kJ/mol): <br/>\n",
    "    C.fusion_heat <br/>\n",
    "#### Heat of vaporization (kJ/mol): <br/>\n",
    "    C.evaporation_heat <br/>\n",
    "#### Thermal conductivity (W/m•K): <br/>\n",
    "    C.thermal_conductivity <br/>\n",
    "#### Heat atomization (kJ/mol): <br/>\n",
    "#### Cohesive energy (eV): <br/>"
   ]
  },
  {
   "cell_type": "code",
   "execution_count": null,
   "metadata": {},
   "outputs": [],
   "source": []
  }
 ],
 "metadata": {
  "kernelspec": {
   "display_name": "Python 3",
   "language": "python",
   "name": "python3"
  },
  "language_info": {
   "codemirror_mode": {
    "name": "ipython",
    "version": 3
   },
   "file_extension": ".py",
   "mimetype": "text/x-python",
   "name": "python",
   "nbconvert_exporter": "python",
   "pygments_lexer": "ipython3",
   "version": "3.7.1"
  }
 },
 "nbformat": 4,
 "nbformat_minor": 2
}
